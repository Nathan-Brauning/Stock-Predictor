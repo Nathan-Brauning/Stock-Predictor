{
 "cells": [
  {
   "cell_type": "code",
   "execution_count": 58,
   "id": "40bc6935",
   "metadata": {},
   "outputs": [
    {
     "name": "stderr",
     "output_type": "stream",
     "text": [
      "C:\\Users\\natha\\anaconda3\\Lib\\site-packages\\yfinance\\utils.py:775: FutureWarning: The 'unit' keyword in TimedeltaIndex construction is deprecated and will be removed in a future version. Use pd.to_timedelta instead.\n",
      "  df.index += _pd.TimedeltaIndex(dst_error_hours, 'h')\n",
      "C:\\Users\\natha\\anaconda3\\Lib\\site-packages\\yfinance\\utils.py:775: FutureWarning: The 'unit' keyword in TimedeltaIndex construction is deprecated and will be removed in a future version. Use pd.to_timedelta instead.\n",
      "  df.index += _pd.TimedeltaIndex(dst_error_hours, 'h')\n"
     ]
    },
    {
     "name": "stdout",
     "output_type": "stream",
     "text": [
      "{'closing_prices': [97.58999633789062, 96.95999908447266, 97.26000213623047, 96.4000015258789, 96.0, 96.16000366210938, 95.86000061035156, 91.75, 91.98999786376953, 88.83999633789062], 'standard_deviation': 2.946356475223441, 'graph_coordinate': ((1, 97.58999633789062), (2, 96.95999908447266), (3, 97.26000213623047), (4, 96.4000015258789), (5, 96.0), (6, 96.16000366210938), (7, 95.86000061035156), (8, 91.75), (9, 91.98999786376953), (10, 88.83999633789062)), 'slope': -0.8639395049124053, 'intercept': 99.6326670328776, 'percent_change': -8.966082926885708, 'should_invest?': False}\n",
      "\n",
      " {'closing_prices': [97.22000122070312, 97.4000015258789, 97.75, 98.88999938964844, 98.55999755859375, 97.58999633789062, 96.95999908447266, 97.26000213623047, 96.4000015258789, 96.0, 96.16000366210938, 95.86000061035156, 91.75, 91.98999786376953, 88.83999633789062], 'standard_deviation': 2.827697546850064, 'graph_coordinate': ((1, 97.22000122070312), (2, 97.4000015258789), (3, 97.75), (4, 98.88999938964844), (5, 98.55999755859375), (6, 97.58999633789062), (7, 96.95999908447266), (8, 97.26000213623047), (9, 96.4000015258789), (10, 96.0), (11, 96.16000366210938), (12, 95.86000061035156), (13, 91.75), (14, 91.98999786376953), (15, 88.83999633789062)), 'slope': -0.5149286542619977, 'intercept': 100.02809571765718, 'percent_change': -8.619630505649456, 'should_invest?': False}\n",
      "\n",
      " {'closing_prices': [99.58999633789062, 98.75, 97.94999694824219, 97.0199966430664, 95.38999938964844, 97.22000122070312, 97.4000015258789, 97.75, 98.88999938964844, 98.55999755859375, 97.58999633789062, 96.95999908447266, 97.26000213623047, 96.4000015258789, 96.0, 96.16000366210938, 95.86000061035156, 91.75, 91.98999786376953, 88.83999633789062], 'standard_deviation': 2.6660287393531363, 'graph_coordinate': ((1, 99.58999633789062), (2, 98.75), (3, 97.94999694824219), (4, 97.0199966430664), (5, 95.38999938964844), (6, 97.22000122070312), (7, 97.4000015258789), (8, 97.75), (9, 98.88999938964844), (10, 98.55999755859375), (11, 97.58999633789062), (12, 96.95999908447266), (13, 97.26000213623047), (14, 96.4000015258789), (15, 96.0), (16, 96.16000366210938), (17, 95.86000061035156), (18, 91.75), (19, 91.98999786376953), (20, 88.83999633789062)), 'slope': -0.33531571008209, 'intercept': 99.88731428447524, 'percent_change': -10.794256848375833, 'should_invest?': False}\n"
     ]
    },
    {
     "name": "stderr",
     "output_type": "stream",
     "text": [
      "C:\\Users\\natha\\anaconda3\\Lib\\site-packages\\yfinance\\utils.py:775: FutureWarning: The 'unit' keyword in TimedeltaIndex construction is deprecated and will be removed in a future version. Use pd.to_timedelta instead.\n",
      "  df.index += _pd.TimedeltaIndex(dst_error_hours, 'h')\n"
     ]
    }
   ],
   "source": [
    "def stock_stats(x_days_ago, ticker):\n",
    "    #Imports\n",
    "    import statistics as stat\n",
    "    import pandas as pd\n",
    "    import yfinance as yf\n",
    "    from datetime import datetime, timedelta\n",
    "\n",
    "    #Calculating the start and end dates\n",
    "    end_date = datetime.now() \n",
    "    start_date = end_date - timedelta(days=x_days_ago)\n",
    "\n",
    "    #Obtaining Stock History\n",
    "    stock = yf.Ticker(ticker)\n",
    "    stock_history = stock.history(start=start_date, end=end_date)\n",
    "\n",
    "    \n",
    "    num_days = len(stock_history)\n",
    "    df = pd.DataFrame(stock_history)\n",
    "\n",
    "    closing_prices = df['Close'].tolist()\n",
    "\n",
    "    #Statistics\n",
    "    standard_deviation = stat.stdev(closing_prices)\n",
    "\n",
    "    x_values = []\n",
    "    i = 1\n",
    "    while i <= num_days:\n",
    "        x_values.append(i)\n",
    "        i += 1\n",
    "\n",
    "    graph_coordinates = zip(x_values, closing_prices)\n",
    "\n",
    "    slope, intercept = stat.linear_regression(x_values, closing_prices)\n",
    "\n",
    "    percent_change = (closing_prices[num_days - 1] - closing_prices[0])/closing_prices[0]*100\n",
    "\n",
    "    if (closing_prices[num_days - 1] - closing_prices[0]) / closing_prices[0] > 0.1 / (365/x_days_ago):\n",
    "        should_invest = True\n",
    "    else:\n",
    "        should_invest = False\n",
    "    \n",
    "    statistics = {\"closing_prices\": closing_prices,\n",
    "                  \"standard_deviation\": standard_deviation,\n",
    "                  \"graph_coordinate\": tuple(graph_coordinates),\n",
    "                  \"slope\": slope,\n",
    "                  \"intercept\": intercept,\n",
    "                  \"percent_change\": percent_change,\n",
    "                  \"should_invest?\": should_invest}\n",
    "    return statistics\n",
    "\n",
    "fourteen_day_statistics = stock_stats(14, \"SONY\")\n",
    "print(fourteen_day_statistics)\n",
    "\n",
    "six_month_statistics = stock_stats(21, \"SONY\")\n",
    "print(\"\\n\", six_month_statistics)\n",
    "\n",
    "year_statistics = stock_stats(28, \"SONY\")\n",
    "print(\"\\n\", year_statistics)"
   ]
  },
  {
   "cell_type": "code",
   "execution_count": null,
   "id": "c08a18b2",
   "metadata": {},
   "outputs": [],
   "source": []
  },
  {
   "cell_type": "code",
   "execution_count": null,
   "id": "a05befcf",
   "metadata": {},
   "outputs": [],
   "source": []
  }
 ],
 "metadata": {
  "kernelspec": {
   "display_name": "Python 3 (ipykernel)",
   "language": "python",
   "name": "python3"
  },
  "language_info": {
   "codemirror_mode": {
    "name": "ipython",
    "version": 3
   },
   "file_extension": ".py",
   "mimetype": "text/x-python",
   "name": "python",
   "nbconvert_exporter": "python",
   "pygments_lexer": "ipython3",
   "version": "3.6.13"
  }
 },
 "nbformat": 4,
 "nbformat_minor": 5
}
