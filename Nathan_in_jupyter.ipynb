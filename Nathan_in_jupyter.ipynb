{
 "cells": [
  {
   "cell_type": "code",
   "execution_count": 65,
   "id": "d0fd0121",
   "metadata": {},
   "outputs": [
    {
     "name": "stdout",
     "output_type": "stream",
     "text": [
      "2024-02-17 17:52:50.485929\n",
      "2024-02-03 17:52:50.485929\n",
      "                                 Open        High         Low       Close  \\\n",
      "Date                                                                        \n",
      "2024-02-05 00:00:00-05:00  170.199997  170.550003  167.699997  170.309998   \n",
      "2024-02-06 00:00:00-05:00  169.389999  170.710007  167.649994  169.149994   \n",
      "2024-02-07 00:00:00-05:00  169.479996  170.880005  168.940002  170.529999   \n",
      "2024-02-08 00:00:00-05:00  169.649994  171.429993  168.880005  169.839996   \n",
      "2024-02-09 00:00:00-05:00  170.899994  175.000000  170.580002  174.449997   \n",
      "2024-02-12 00:00:00-05:00  174.800003  175.389999  171.539993  172.339996   \n",
      "2024-02-13 00:00:00-05:00  167.729996  170.949997  165.750000  168.639999   \n",
      "2024-02-14 00:00:00-05:00  169.210007  171.210007  168.279999  170.979996   \n",
      "2024-02-15 00:00:00-05:00  170.580002  171.169998  167.589996  169.800003   \n",
      "2024-02-16 00:00:00-05:00  168.740005  170.419998  167.169998  169.509995   \n",
      "\n",
      "                             Volume  Dividends  Stock Splits  \n",
      "Date                                                          \n",
      "2024-02-05 00:00:00-05:00  55081300        0.0           0.0  \n",
      "2024-02-06 00:00:00-05:00  42505500        0.0           0.0  \n",
      "2024-02-07 00:00:00-05:00  47174100        0.0           0.0  \n",
      "2024-02-08 00:00:00-05:00  42316500        0.0           0.0  \n",
      "2024-02-09 00:00:00-05:00  56986000        0.0           0.0  \n",
      "2024-02-12 00:00:00-05:00  51050400        0.0           0.0  \n",
      "2024-02-13 00:00:00-05:00  56345100        0.0           0.0  \n",
      "2024-02-14 00:00:00-05:00  42815500        0.0           0.0  \n",
      "2024-02-15 00:00:00-05:00  49855200        0.0           0.0  \n",
      "2024-02-16 00:00:00-05:00  48074600        0.0           0.0  \n",
      "[170.30999755859375, 169.14999389648438, 170.52999877929688, 169.83999633789062, 174.4499969482422, 172.33999633789062, 168.63999938964844, 170.97999572753906, 169.8000030517578, 169.50999450683594]\n",
      "1.7131206864398245\n"
     ]
    },
    {
     "name": "stderr",
     "output_type": "stream",
     "text": [
      "C:\\Users\\natha\\anaconda3\\Lib\\site-packages\\yfinance\\utils.py:775: FutureWarning: The 'unit' keyword in TimedeltaIndex construction is deprecated and will be removed in a future version. Use pd.to_timedelta instead.\n",
      "  df.index += _pd.TimedeltaIndex(dst_error_hours, 'h')\n"
     ]
    }
   ],
   "source": [
    "import statistics as stat\n",
    "import pandas as pd\n",
    "import yfinance as yf\n",
    "from datetime import datetime, timedelta\n",
    "\n",
    "x_days_ago = 14\n",
    "\n",
    "end_date = datetime.now() \n",
    "\n",
    "start_date = end_date - timedelta(days=x_days_ago)\n",
    "\n",
    "print(end_date)\n",
    "\n",
    "print(start_date)\n",
    "\n",
    "#Replace \"AMZN\" with the stock input\n",
    "stock = yf.Ticker(\"AMZN\")\n",
    "\n",
    "stock_history = stock.history(start=start_date, end=end_date)\n",
    "\n",
    "#Doesn't work now? ;(\n",
    "print(stock_history)\n",
    "\n",
    "num_days = len(stock_history)\n",
    "\n",
    "Open_Prices = []\n",
    "\n",
    "df = pd.DataFrame(stock_history)\n",
    "\n",
    "Closing_Prices = df['Close'].tolist()\n",
    "\n",
    "print(Closing_Prices)\n",
    "\n",
    "Standard_Deviation = stat.stdev(Closing_Prices)\n",
    "print(Standard_Deviation)\n",
    "Average = "
   ]
  },
  {
   "cell_type": "code",
   "execution_count": null,
   "id": "f5316dfc",
   "metadata": {},
   "outputs": [],
   "source": []
  }
 ],
 "metadata": {
  "kernelspec": {
   "display_name": "Python 3 (ipykernel)",
   "language": "python",
   "name": "python3"
  },
  "language_info": {
   "codemirror_mode": {
    "name": "ipython",
    "version": 3
   },
   "file_extension": ".py",
   "mimetype": "text/x-python",
   "name": "python",
   "nbconvert_exporter": "python",
   "pygments_lexer": "ipython3",
   "version": "3.11.5"
  }
 },
 "nbformat": 4,
 "nbformat_minor": 5
}
