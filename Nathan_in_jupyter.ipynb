{
 "cells": [
  {
   "cell_type": "code",
   "execution_count": 15,
   "id": "40bc6935",
   "metadata": {},
   "outputs": [
    {
     "name": "stdout",
     "output_type": "stream",
     "text": [
      "Please input a stock tickerAMZN\n",
      "{'standard_deviation': 1.7131206864398245, 'slope': -0.03703012177438447, 'intercept': 170.7586629231771, 'percent_change': -0.46973346440368424, 'should_invest?': False}\n",
      "\n",
      " {'standard_deviation': 5.783935254709763, 'slope': 0.8908929007393973, 'intercept': 160.34618748256136, 'percent_change': 5.1159619750887915, 'should_invest?': True}\n",
      "\n",
      " {'standard_deviation': 6.874335789143346, 'slope': 0.9865563184695136, 'intercept': 154.47315633673418, 'percent_change': 9.516730742802746, 'should_invest?': True}\n",
      "We lightly discourage you from buying this stock and to use your own judgement.\n"
     ]
    },
    {
     "name": "stderr",
     "output_type": "stream",
     "text": [
      "C:\\Users\\natha\\anaconda3\\Lib\\site-packages\\yfinance\\utils.py:775: FutureWarning: The 'unit' keyword in TimedeltaIndex construction is deprecated and will be removed in a future version. Use pd.to_timedelta instead.\n",
      "  df.index += _pd.TimedeltaIndex(dst_error_hours, 'h')\n",
      "C:\\Users\\natha\\anaconda3\\Lib\\site-packages\\yfinance\\utils.py:775: FutureWarning: The 'unit' keyword in TimedeltaIndex construction is deprecated and will be removed in a future version. Use pd.to_timedelta instead.\n",
      "  df.index += _pd.TimedeltaIndex(dst_error_hours, 'h')\n",
      "C:\\Users\\natha\\anaconda3\\Lib\\site-packages\\yfinance\\utils.py:775: FutureWarning: The 'unit' keyword in TimedeltaIndex construction is deprecated and will be removed in a future version. Use pd.to_timedelta instead.\n",
      "  df.index += _pd.TimedeltaIndex(dst_error_hours, 'h')\n"
     ]
    }
   ],
   "source": [
    "def stock_stats(x_days_ago, ticker):\n",
    "    #Imports\n",
    "    import statistics as stat\n",
    "    import pandas as pd\n",
    "    import yfinance as yf\n",
    "    from datetime import datetime, timedelta\n",
    "\n",
    "    #Calculating the start and end dates\n",
    "    end_date = datetime.now() \n",
    "    start_date = end_date - timedelta(days=x_days_ago)\n",
    "\n",
    "    #Obtaining Stock History\n",
    "    stock = yf.Ticker(ticker)\n",
    "    stock_history = stock.history(start=start_date, end=end_date)\n",
    "\n",
    "    \n",
    "    num_days = len(stock_history)\n",
    "    df = pd.DataFrame(stock_history)\n",
    "\n",
    "    closing_prices = df['Close'].tolist()\n",
    "\n",
    "    #Statistics\n",
    "    standard_deviation = stat.stdev(closing_prices)\n",
    "\n",
    "    x_values = []\n",
    "    i = 1\n",
    "    while i <= num_days:\n",
    "        x_values.append(i)\n",
    "        i += 1\n",
    "\n",
    "    graph_coordinates = zip(x_values, closing_prices)\n",
    "\n",
    "    slope, intercept = stat.linear_regression(x_values, closing_prices)\n",
    "\n",
    "    percent_change = (closing_prices[num_days - 1] - closing_prices[0])/closing_prices[0]*100\n",
    "\n",
    "    if (closing_prices[num_days - 1] - closing_prices[0]) / closing_prices[0] > 0.1 / (365/x_days_ago):\n",
    "        should_invest = True\n",
    "    else:\n",
    "        should_invest = False\n",
    "    \n",
    "    statistics = {\"standard_deviation\": standard_deviation,\n",
    "                  #\"graph_coordinate\": tuple(graph_coordinates),\n",
    "                  \"slope\": slope,\n",
    "                  \"intercept\": intercept,\n",
    "                  \"percent_change\": percent_change,\n",
    "                  \"should_invest?\": should_invest}\n",
    "    return statistics\n",
    "\n",
    "ticker_input = input(\"Please input a stock ticker: \")\n",
    "\n",
    "fourteen_day_statistics = stock_stats(14, ticker_input)\n",
    "print(fourteen_day_statistics)\n",
    "\n",
    "six_month_statistics = stock_stats(21, ticker_input)\n",
    "print(\"\\n\", six_month_statistics)\n",
    "\n",
    "year_statistics = stock_stats(28, ticker_input)\n",
    "print(\"\\n\", year_statistics)\n",
    "\n",
    "fourteen_day_slope = fourteen_day_statistics.get(\"slope\")\n",
    "six_month_slope = six_month_statistics.get(\"slope\")\n",
    "year_slope = year_statistics.get(\"slope\")\n",
    "\n",
    "if fourteen_day_slope >= six_month_slope and six_month_slope >= year_slope:\n",
    "    print(\"We strongly encourage you to buy this stock.\")\n",
    "elif fourteen_day_slope >= six_month_slope or fourteen_day_slope >= year_slope:\n",
    "    print(\"We lightly encourage you to buy this stock and to use your own judgement.\")\n",
    "elif fourteen_day_slope <= six_month_slope and six_month_slope >= year_slope:\n",
    "    print(\"We strongly discourage you from buying this stock. If you own this stock we encourage you to sell it.\")\n",
    "else:\n",
    "    print(\"We lightly discourage you from buying this stock and to use your own judgement.\")"
   ]
  },
  {
   "cell_type": "code",
   "execution_count": null,
   "id": "c08a18b2",
   "metadata": {},
   "outputs": [],
   "source": []
  },
  {
   "cell_type": "code",
   "execution_count": null,
   "id": "a05befcf",
   "metadata": {},
   "outputs": [],
   "source": []
  }
 ],
 "metadata": {
  "kernelspec": {
   "display_name": "Python 3 (ipykernel)",
   "language": "python",
   "name": "python3"
  },
  "language_info": {
   "codemirror_mode": {
    "name": "ipython",
    "version": 3
   },
   "file_extension": ".py",
   "mimetype": "text/x-python",
   "name": "python",
   "nbconvert_exporter": "python",
   "pygments_lexer": "ipython3",
   "version": "3.11.5"
  }
 },
 "nbformat": 4,
 "nbformat_minor": 5
}
